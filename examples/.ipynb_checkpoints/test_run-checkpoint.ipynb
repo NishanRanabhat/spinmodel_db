{
 "cells": [
  {
   "cell_type": "code",
   "execution_count": 20,
   "id": "c97279dd",
   "metadata": {},
   "outputs": [],
   "source": [
    "#!/usr/bin/env python3\n",
    "import os, sys\n",
    "from pathlib import Path\n",
    "\n",
    "# Get the notebook’s working directory\n",
    "cwd = Path(os.getcwd())\n",
    "\n",
    "# Go up one level, then into src/\n",
    "src_path = cwd.parent / \"src\"\n",
    "\n",
    "# Prepend it to sys.path so Python will find your packages there\n",
    "sys.path.insert(0, str(src_path))"
   ]
  },
  {
   "cell_type": "code",
   "execution_count": 21,
   "id": "6a2161e9",
   "metadata": {},
   "outputs": [],
   "source": [
    "# get necessary files and classes\n",
    "from utils.helper import process_runs\n",
    "from db.database import SpectrumDatabase \n",
    "import sqlite3\n",
    "import json\n",
    "import numpy as np"
   ]
  },
  {
   "cell_type": "code",
   "execution_count": 24,
   "id": "34108121",
   "metadata": {},
   "outputs": [],
   "source": [
    "#uniform interaction matrix with interaction between spins that are n neighbor, for NN, n=1\n",
    "def interac(J, N, n):\n",
    "    # returns an N×N array with J on the n-th super-diagonal\n",
    "    return J * np.eye(N, N, k=n)"
   ]
  },
  {
   "cell_type": "code",
   "execution_count": 25,
   "id": "19836954",
   "metadata": {},
   "outputs": [],
   "source": [
    "#uniform field vector\n",
    "def field(h,N):\n",
    "    return h*np.ones(N)"
   ]
  },
  {
   "cell_type": "code",
   "execution_count": 31,
   "id": "19092400",
   "metadata": {},
   "outputs": [
    {
     "name": "stdout",
     "output_type": "stream",
     "text": [
      "XX\n",
      "Z\n",
      "Saved run 1: N=4, method=dense, nev=16\n",
      "XX\n",
      "YY\n",
      "ZZ\n",
      "Saved run 2: N=6, method=dense, nev=64\n"
     ]
    }
   ],
   "source": [
    "#build the database here\n",
    "\n",
    "if __name__ == \"__main__\":\n",
    "    # Example parameter sets\n",
    "    N1 = 4;\n",
    "    N2 = 6;\n",
    "    n = 1;\n",
    "    params_list = [\n",
    "        {\"N\": N1, \"JXX\": interac(1.0,N1,n), \"hZ\": field(0.5,N1)}, #transverse field ising; J*XX+h*Z \n",
    "        {\"N\": N2, \"JXX\": interac(1.0,N2,n),\"JYY\": interac(1.0,N2,n),\"JZZ\": interac(0.5,N2,n)} #XXZ; XX+YY+JZZ\n",
    "    ]\n",
    "    \n",
    "    #take the parameter list and build the database\n",
    "    #db_path is the name of the database, here saved in working directory\n",
    "    #below dense_threshold the eigenspectrum is dense above sparse\n",
    "    #first sparse_k spectrum are saved\n",
    "    process_runs(params_list,path=\"new_spectrum.db\",dense_threshold=12, sparse_k=6) "
   ]
  },
  {
   "cell_type": "code",
   "execution_count": 40,
   "id": "4922c37b",
   "metadata": {},
   "outputs": [],
   "source": [
    "#extract the data from database\n",
    "\n",
    "data_base = SpectrumDatabase(path=\"new_spectrum.db\") #instance of database\n",
    "\n",
    "idx = data_base.get_run_param(params_list[1]) #takes the parameters and returns the corresponding index\n",
    "\n",
    "val, vec = data_base.get_run_id(idx[0]) #takes the index and returns the data,"
   ]
  },
  {
   "cell_type": "code",
   "execution_count": null,
   "id": "092c0dbc",
   "metadata": {},
   "outputs": [],
   "source": []
  },
  {
   "cell_type": "code",
   "execution_count": null,
   "id": "db5df24e",
   "metadata": {},
   "outputs": [],
   "source": []
  }
 ],
 "metadata": {
  "kernelspec": {
   "display_name": "Python 3",
   "language": "python",
   "name": "python3"
  },
  "language_info": {
   "codemirror_mode": {
    "name": "ipython",
    "version": 3
   },
   "file_extension": ".py",
   "mimetype": "text/x-python",
   "name": "python",
   "nbconvert_exporter": "python",
   "pygments_lexer": "ipython3",
   "version": "3.8.18"
  }
 },
 "nbformat": 4,
 "nbformat_minor": 5
}
